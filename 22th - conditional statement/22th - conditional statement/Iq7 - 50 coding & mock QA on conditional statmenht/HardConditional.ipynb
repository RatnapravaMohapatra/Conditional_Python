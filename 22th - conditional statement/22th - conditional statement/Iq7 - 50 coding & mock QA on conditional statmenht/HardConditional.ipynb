{
 "cells": [
  {
   "cell_type": "code",
   "execution_count": 1,
   "id": "6ee60090-83dd-4054-8fa7-052f506cde34",
   "metadata": {},
   "outputs": [
    {
     "name": "stdin",
     "output_type": "stream",
     "text": [
      "Enter date (DD MM YYYY):  09 01 2005\n"
     ]
    },
    {
     "name": "stdout",
     "output_type": "stream",
     "text": [
      "Day of the Week: Sunday\n"
     ]
    }
   ],
   "source": [
    " #Find the day of the week for a given date (without built-in fun\n",
    "def day_of_week(d, m, y):   \n",
    "    if m < 3:   \n",
    "        m += 12   \n",
    "        y -= 1   \n",
    "    k = y % 100   \n",
    "    j = y // 100   \n",
    "    day = (d + (13 * (m + 1)) // 5 + k + (k // 4) + (j // 4) - 2 * j) % 7   \n",
    "    days = [\"Saturday\", \"Sunday\", \"Monday\", \"Tuesday\", \"Wednesday\", \"Thursday\", \"Friday\"]   \n",
    "    return days[day]   \n",
    " \n",
    "day, month, year = map(int, input(\"Enter date (DD MM YYYY): \").split())   \n",
    "print(\"Day of the Week:\", day_of_week(day, month, year))   "
   ]
  },
  {
   "cell_type": "code",
   "execution_count": 12,
   "id": "899ff4f6-b2cb-4ebf-8fc5-0d4e28093009",
   "metadata": {},
   "outputs": [
    {
     "name": "stdin",
     "output_type": "stream",
     "text": [
      "Enter rock, paper, or scissors:  paper\\\n"
     ]
    },
    {
     "name": "stdout",
     "output_type": "stream",
     "text": [
      "Computer chose: paper\n",
      "You lose!\n"
     ]
    }
   ],
   "source": [
    "#Implement a rock-paper-scissors game \n",
    "import random   \n",
    "choices = [\"rock\", \"paper\", \"scissors\"]   \n",
    "user = input(\"Enter rock, paper, or scissors: \").lower()   \n",
    "computer = random.choice(choices)   \n",
    " \n",
    "print(\"Computer chose:\", computer)   \n",
    "if user == computer:   \n",
    "    print(\"It's a tie!\")   \n",
    "elif (user == \"rock\" and computer == \"scissors\") or   (user == \"scissors\" and computer == \"paper\") or   (user == \"paper\" and computer == \"rock\"):   \n",
    "     print(\"You win!\")   \n",
    "else:   \n",
    "    print(\"You lose!\")  "
   ]
  },
  {
   "cell_type": "code",
   "execution_count": 14,
   "id": "20f5e1dc-1a6a-4faa-abc9-9c5ca6a7d5f0",
   "metadata": {},
   "outputs": [
    {
     "name": "stdin",
     "output_type": "stream",
     "text": [
      "Enter monthly income:  50000\n",
      "Enter credit score:  730\n",
      "Are you employed? (yes/no):  yes\n"
     ]
    },
    {
     "name": "stdout",
     "output_type": "stream",
     "text": [
      "Loan Approved\n"
     ]
    }
   ],
   "source": [
    "#Implement a loan eligibility checker \n",
    "income = int(input(\"Enter monthly income: \"))   \n",
    "credit_score = int(input(\"Enter credit score: \"))   \n",
    "employed = input(\"Are you employed? (yes/no): \").lower()   \n",
    " \n",
    "if income >= 25000 and credit_score >= 700 and employed == \"yes\":   \n",
    "    print(\"Loan Approved\")   \n",
    "else:   \n",
    "    print(\"Loan Denied\")   "
   ]
  },
  {
   "cell_type": "code",
   "execution_count": 22,
   "id": "a6c5d965-d9bc-4096-b28d-4ffbe418cd31",
   "metadata": {},
   "outputs": [
    {
     "name": "stdin",
     "output_type": "stream",
     "text": [
      "Enter current position (x y):  6 8\n",
      "Enter new position (x y):  8 9\n"
     ]
    },
    {
     "name": "stdout",
     "output_type": "stream",
     "text": [
      "Valid Knight Move\n"
     ]
    }
   ],
   "source": [
    "#Check if a knight move in chess is valid \n",
    "x1, y1 = map(int, input(\"Enter current position (x y): \").split())   \n",
    "x2, y2 = map(int, input(\"Enter new position (x y): \").split())   \n",
    " \n",
    "if (abs(x1 - x2), abs(y1 - y2)) in [(2, 1), (1, 2)]:   \n",
    "    print(\"Valid Knight Move\")   \n",
    "else:   \n",
    "    print(\"Invalid Move\")  "
   ]
  },
  {
   "cell_type": "code",
   "execution_count": 26,
   "id": "f5890e5d-2eb4-40b8-9257-418e5f13cfde",
   "metadata": {},
   "outputs": [
    {
     "name": "stdin",
     "output_type": "stream",
     "text": [
      "Enter email:  ratna@gmail.com\n"
     ]
    },
    {
     "name": "stdout",
     "output_type": "stream",
     "text": [
      "Valid Email\n"
     ]
    }
   ],
   "source": [
    "#Validate an email format \n",
    "import re   \n",
    "email = input(\"Enter email: \")   \n",
    "if re.match(r\"^[\\w\\.-]+@[\\w\\.-]+\\.(com|org|net|edu)$\", email):  \n",
    "     print(\"Valid Email\")   \n",
    "else:   \n",
    "    print(\"Invalid Email\")  "
   ]
  },
  {
   "cell_type": "code",
   "execution_count": 30,
   "id": "babc8663-628e-441b-b0b3-5c9b7181937e",
   "metadata": {},
   "outputs": [
    {
     "name": "stdin",
     "output_type": "stream",
     "text": [
      "Enter a number:  30\n"
     ]
    },
    {
     "name": "stdout",
     "output_type": "stream",
     "text": [
      "Harshad Number\n"
     ]
    }
   ],
   "source": [
    "# if a number is a Harshad number \n",
    "num = int(input(\"Enter a number: \"))   \n",
    "sum_digits = sum(int(digit) for digit in str(num))   \n",
    "if num % sum_digits == 0:   \n",
    "    print(\"Harshad Number\")   \n",
    "else:   \n",
    "    print(\"Not a Harshad Number\")  "
   ]
  },
  {
   "attachments": {
    "b97da3e1-a4c2-4ea0-a66b-8c5481a719b6.png": {
     "image/png": "[encoded data removed]"
    }
   },
   "cell_type": "markdown",
   "id": "3a26c217-ff09-48be-8060-3bbce0f21f9c",
   "metadata": {},
   "source": [
    "![Alt Text](![Harshad Number Examples.png](attachment:b97da3e1-a4c2-4ea0-a66b-8c5481a719b6.png))\n"
   ]
  },
  {
   "cell_type": "code",
   "execution_count": 35,
   "id": "e9f049b0-e177-4b43-b482-32cf116c372a",
   "metadata": {},
   "outputs": [
    {
     "name": "stdin",
     "output_type": "stream",
     "text": [
      "Enter birth month (1-12):  1\n",
      "Enter birth day:  9\n"
     ]
    },
    {
     "name": "stdout",
     "output_type": "stream",
     "text": [
      "Zodiac Sign: Capricorn\n"
     ]
    }
   ],
   "source": [
    "#Determine zodiac sign based on birth date \n",
    "month = int(input(\"Enter birth month (1-12): \"))   \n",
    "day = int(input(\"Enter birth day: \"))   \n",
    " \n",
    "zodiac = [(\"Capricorn\", 20), (\"Aquarius\", 19), (\"Pisces\", 20), (\"Aries\", 20),   \n",
    "          (\"Taurus\", 21), (\"Gemini\", 21), (\"Cancer\", 22), (\"Leo\", 22),   \n",
    "          (\"Virgo\", 22), (\"Libra\", 23), (\"Scorpio\", 23), (\"Sagittarius\", 22), (\"Capricorn\", 31)]   \n",
    " \n",
    "sign = zodiac[month - 1][0] if day <= zodiac[month - 1][1] else zodiac[month][0]   \n",
    "print(\"Zodiac Sign:\", sign)   \n",
    " \n"
   ]
  },
  {
   "cell_type": "code",
   "execution_count": 37,
   "id": "871635fb-517c-45d4-a2ec-93cb1b6f21f0",
   "metadata": {},
   "outputs": [
    {
     "name": "stdin",
     "output_type": "stream",
     "text": [
      "Enter Roman numeral:  XXXL\n"
     ]
    },
    {
     "name": "stdout",
     "output_type": "stream",
     "text": [
      "Integer: 60\n"
     ]
    }
   ],
   "source": [
    "#Convert a Roman numeral to an integer \n",
    "def roman_to_int(s):   \n",
    "    roman = {'I': 1, 'V': 5, 'X': 10, 'L': 50, 'C': 100, 'D': 500, 'M': 1000}   \n",
    "    total = 0   \n",
    "    for i in range(len(s)):   \n",
    "        if i > 0 and roman[s[i]] > roman[s[i - 1]]:   \n",
    "            total += roman[s[i]] - 2 * roman[s[i - 1]]   \n",
    "        else:   \n",
    "            total += roman[s[i]]   \n",
    "    return total   \n",
    " \n",
    "num = input(\"Enter Roman numeral: \").upper()   \n",
    "print(\"Integer:\", roman_to_int(num))   "
   ]
  },
  {
   "cell_type": "code",
   "execution_count": 39,
   "id": "6234e320-588e-487b-b6b4-a99078f594c1",
   "metadata": {},
   "outputs": [
    {
     "name": "stdin",
     "output_type": "stream",
     "text": [
      "Enter age:  19\n"
     ]
    },
    {
     "name": "stdout",
     "output_type": "stream",
     "text": [
      "Ticket Price: ₹100\n"
     ]
    }
   ],
   "source": [
    "#Implement a ticket pricing system \n",
    "age = int(input(\"Enter age: \"))   \n",
    "   \n",
    "if age < 5:   \n",
    "    print(\"Ticket Price: Free\")   \n",
    "elif age >= 60:   \n",
    "    print(\"Ticket Price: ₹50\")   \n",
    "else:   \n",
    "    print(\"Ticket Price: ₹100\")   "
   ]
  },
  {
   "cell_type": "code",
   "execution_count": 43,
   "id": "3fde6cba-cf3b-4efb-af23-410df74928d0",
   "metadata": {},
   "outputs": [
    {
     "name": "stdin",
     "output_type": "stream",
     "text": [
      "Enter three numbers:  5 7 8\n"
     ]
    },
    {
     "name": "stdout",
     "output_type": "stream",
     "text": [
      "Not a Pythagorean Triplet\n"
     ]
    }
   ],
   "source": [
    "#Check if three numbers form a Pythagorean triplet \n",
    "x, y, z = sorted(map(int, input(\"Enter three numbers: \").split()))   \n",
    "if x**2 + y**2 == z**2:   \n",
    "    print(\"Pythagorean Triplet\")   \n",
    "else:   \n",
    "    print(\"Not a Pythagorean Triplet\")  "
   ]
  },
  {
   "cell_type": "code",
   "execution_count": null,
   "id": "4b33e819-addb-4054-9a0e-762b7158bc91",
   "metadata": {},
   "outputs": [],
   "source": []
  }
 ],
 "metadata": {
  "kernelspec": {
   "display_name": "Python 3 (ipykernel)",
   "language": "python",
   "name": "python3"
  },
  "language_info": {
   "codemirror_mode": {
    "name": "ipython",
    "version": 3
   },
   "file_extension": ".py",
   "mimetype": "text/x-python",
   "name": "python",
   "nbconvert_exporter": "python",
   "pygments_lexer": "ipython3",
   "version": "3.12.4"
  }
 },
 "nbformat": 4,
 "nbformat_minor": 5
}
