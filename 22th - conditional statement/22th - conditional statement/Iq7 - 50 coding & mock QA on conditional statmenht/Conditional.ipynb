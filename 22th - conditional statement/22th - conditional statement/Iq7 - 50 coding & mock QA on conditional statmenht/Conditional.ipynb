{
 "cells": [
  {
   "cell_type": "markdown",
   "id": "8b278342-ce15-448d-bb73-209e4dcd0dc8",
   "metadata": {},
   "source": [
    "# Easy level Conditional Statement"
   ]
  },
  {
   "cell_type": "code",
   "execution_count": 4,
   "id": "eb7880b7-1b3e-4fb9-8341-23f029c8e161",
   "metadata": {},
   "outputs": [
    {
     "name": "stdin",
     "output_type": "stream",
     "text": [
      "Enter a number 45\n"
     ]
    },
    {
     "name": "stdout",
     "output_type": "stream",
     "text": [
      "its odd\n"
     ]
    }
   ],
   "source": [
    "# Even or odd\n",
    "x = int(input(\"Enter a number\"))\n",
    "if x%2==0:\n",
    "    print(\"its even\")\n",
    "else:\n",
    "    print(\"its odd\")"
   ]
  },
  {
   "cell_type": "code",
   "execution_count": 6,
   "id": "ff298dce-84e2-4729-bf7f-79ee8e184d83",
   "metadata": {},
   "outputs": [
    {
     "name": "stdin",
     "output_type": "stream",
     "text": [
      "Enter age 12\n"
     ]
    },
    {
     "name": "stdout",
     "output_type": "stream",
     "text": [
      "Not elligible\n"
     ]
    }
   ],
   "source": [
    "#person is elligiible for vote or not\n",
    "a =  int(input('Enter age'))\n",
    "if a>=18:\n",
    "    print(\"You are elligible \")\n",
    "else:\n",
    "    print(\"Not elligible\")"
   ]
  },
  {
   "cell_type": "code",
   "execution_count": 20,
   "id": "753233c1-abcf-4f1f-9985-eb7e7ea924fa",
   "metadata": {},
   "outputs": [
    {
     "name": "stdin",
     "output_type": "stream",
     "text": [
      "Enter  a year 2036\n"
     ]
    },
    {
     "name": "stdout",
     "output_type": "stream",
     "text": [
      "its a leap year\n"
     ]
    }
   ],
   "source": [
    "y = int(input('Enter  a year'))\n",
    "if (y%4==0 and y%100!=0 or y%400==0):\n",
    "    print(\"its a leap year\")\n",
    "else:\n",
    "    print(\"Not a leap year\")"
   ]
  },
  {
   "cell_type": "code",
   "execution_count": 26,
   "id": "d99d7aec-7982-4844-acc1-75aafbebf623",
   "metadata": {},
   "outputs": [
    {
     "name": "stdin",
     "output_type": "stream",
     "text": [
      "ENTER  A NUM -897\n"
     ]
    },
    {
     "name": "stdout",
     "output_type": "stream",
     "text": [
      "-ve\n"
     ]
    }
   ],
   "source": [
    "# Positive,neagative,zero\n",
    "z = int(input(\"ENTER  A NUM\"))\n",
    "if z>0:\n",
    "    print(\"+ve\")\n",
    "elif z<0:\n",
    "    print(\"-ve\")\n",
    "else:\n",
    "\n",
    "    print(\"0\")"
   ]
  },
  {
   "cell_type": "code",
   "execution_count": 28,
   "id": "3f448573-6988-4484-a117-b3e7f9a78bd4",
   "metadata": {},
   "outputs": [
    {
     "name": "stdin",
     "output_type": "stream",
     "text": [
      "Enter 1st number 66\n",
      "Enter 2nd number 75\n"
     ]
    },
    {
     "name": "stdout",
     "output_type": "stream",
     "text": [
      "75\n"
     ]
    }
   ],
   "source": [
    "# greatest of two numbers\n",
    "a = int(input(\"Enter 1st number\"))\n",
    "b = int(input(\"Enter 2nd number\"))\n",
    "if a>b:\n",
    "    print(a)\n",
    "else:\n",
    "    print(b)"
   ]
  },
  {
   "cell_type": "code",
   "execution_count": 30,
   "id": "e9060b16-00f7-4842-aca0-015a56502b7d",
   "metadata": {},
   "outputs": [
    {
     "name": "stdin",
     "output_type": "stream",
     "text": [
      "Enter a number 45\n"
     ]
    },
    {
     "name": "stdout",
     "output_type": "stream",
     "text": [
      "mutiple of 5\n"
     ]
    }
   ],
   "source": [
    "# number is mutiple 0f 5 or not\n",
    "x = int(input(\"Enter a number\"))\n",
    "if x%5==0:\n",
    "    print(\"mutiple of 5\")\n",
    "else:\n",
    "    print(\"Not multple of 5\")"
   ]
  },
  {
   "cell_type": "code",
   "execution_count": 42,
   "id": "94b520a1-07ff-482b-920e-9a7baa1a1d40",
   "metadata": {},
   "outputs": [
    {
     "name": "stdin",
     "output_type": "stream",
     "text": [
      "Enter a letter F\n"
     ]
    },
    {
     "name": "stdout",
     "output_type": "stream",
     "text": [
      "consonant\n"
     ]
    }
   ],
   "source": [
    "#vowel or consonant\n",
    "z = input(\"Enter a letter\")\n",
    "if z in (z =='A','E','I','O','U','a','e','i','o','u'):\n",
    "    print(\"vowel\")\n",
    "else:\n",
    "    print(\"consonant\")\n"
   ]
  },
  {
   "cell_type": "code",
   "execution_count": 44,
   "id": "eda4a702-8269-4272-a825-6546445e61e1",
   "metadata": {},
   "outputs": [
    {
     "name": "stdin",
     "output_type": "stream",
     "text": [
      "Enter your age 67\n"
     ]
    },
    {
     "name": "stdout",
     "output_type": "stream",
     "text": [
      "You are senior citizen🙏\n"
     ]
    }
   ],
   "source": [
    "#Senior Citizen\n",
    "x = int(input(\"Enter your age\"))\n",
    "if x>=60:\n",
    "    print(\"You are senior citizen🙏\")\n",
    "else:\n",
    "    print(\"You are not under senior citizen\")"
   ]
  },
  {
   "cell_type": "code",
   "execution_count": 48,
   "id": "4d5be3fb-ae09-49ca-a24a-0f0a20039bfc",
   "metadata": {},
   "outputs": [
    {
     "name": "stdin",
     "output_type": "stream",
     "text": [
      "Enter a digit 8\n"
     ]
    },
    {
     "name": "stdout",
     "output_type": "stream",
     "text": [
      "Its one digit\n"
     ]
    }
   ],
   "source": [
    "#one digit number check\n",
    "h = int(input('Enter a digit'))\n",
    "if h<10:\n",
    "    print(\"Its one digit\")\n",
    "else:\n",
    "    print(\"Not one digit\")"
   ]
  },
  {
   "cell_type": "code",
   "execution_count": 74,
   "id": "410dbe3c-a07b-49ef-bd9e-06dfbfd5d338",
   "metadata": {},
   "outputs": [
    {
     "name": "stdin",
     "output_type": "stream",
     "text": [
      "Enter time 24hoursForm 4\n"
     ]
    },
    {
     "name": "stdout",
     "output_type": "stream",
     "text": [
      "Good Morning\n"
     ]
    }
   ],
   "source": [
    "x = int(input(\"Enter time 24hoursForm\"))\n",
    "if x<12:\n",
    "    print(\"Good Morning\")\n",
    "else:\n",
    "    print(\"Good Afternoon\")"
   ]
  },
  {
   "cell_type": "code",
   "execution_count": 78,
   "id": "c4f5b66d-2ef2-4b29-87a9-79f936bf0190",
   "metadata": {},
   "outputs": [
    {
     "name": "stdin",
     "output_type": "stream",
     "text": [
      "Enter a string \n"
     ]
    },
    {
     "name": "stdout",
     "output_type": "stream",
     "text": [
      "Its empty\n"
     ]
    }
   ],
   "source": [
    "# string empty or not\n",
    "f = input(\"Enter a string\")\n",
    "if not f:\n",
    "    print('Its empty')\n",
    "else:\n",
    "    print('Not empty')"
   ]
  },
  {
   "cell_type": "code",
   "execution_count": 88,
   "id": "770baf77-1358-4513-a432-0492f5e08a18",
   "metadata": {},
   "outputs": [
    {
     "name": "stdin",
     "output_type": "stream",
     "text": [
      "Enter a number 43\n"
     ]
    },
    {
     "name": "stdout",
     "output_type": "stream",
     "text": [
      "its not\n"
     ]
    }
   ],
   "source": [
    "# veify perfect sqaure\n",
    "import math\n",
    "x = int(input(\"Enter a number\"))\n",
    "if math.isqrt(x)**2==x:\n",
    "    print(\"Its perfect sqr\")\n",
    "else:\n",
    "    print(\"its not\")\n",
    "\n"
   ]
  },
  {
   "cell_type": "code",
   "execution_count": 92,
   "id": "6ede0abc-034d-4668-ad1a-2d0c1a39d9d1",
   "metadata": {},
   "outputs": [
    {
     "name": "stdin",
     "output_type": "stream",
     "text": [
      "Enter a number 675\n"
     ]
    },
    {
     "name": "stdout",
     "output_type": "stream",
     "text": [
      "Number is not\n"
     ]
    }
   ],
   "source": [
    "# Determine number bet 1 to 100\n",
    "c = int(input(\"Enter a number\"))\n",
    "if c>0 and c<=100:\n",
    "    print('Number is  1 to 100')\n",
    "else:\n",
    "    print(\"Number is not\")"
   ]
  },
  {
   "cell_type": "code",
   "execution_count": 94,
   "id": "2d4a6872-9112-4a37-a634-1cf884f7096e",
   "metadata": {},
   "outputs": [
    {
     "name": "stdin",
     "output_type": "stream",
     "text": [
      "Enter a day Friday\n"
     ]
    },
    {
     "name": "stdout",
     "output_type": "stream",
     "text": [
      "Weekday\n"
     ]
    }
   ],
   "source": [
    "# 14. Print \"Weekend\" if the day is Saturday or Sunday; otherwise, print \"Weekday\" \n",
    "d = input('Enter a day')\n",
    "if d in['Saturday','Sunday']:\n",
    "    print(\"Weekend\")\n",
    "else:\n",
    "    print(\"Weekday\")"
   ]
  },
  {
   "cell_type": "code",
   "execution_count": 96,
   "id": "ab5f6521-4121-4e41-8c26-6b3b38eabb07",
   "metadata": {},
   "outputs": [
    {
     "name": "stdin",
     "output_type": "stream",
     "text": [
      "Enter a number 21\n"
     ]
    },
    {
     "name": "stdout",
     "output_type": "stream",
     "text": [
      "Divisible by 3,7\n"
     ]
    }
   ],
   "source": [
    "# divisible by 3 & and 7\n",
    "a = int(input(\"Enter a number\"))\n",
    "if a%3==0 and a%7==0:\n",
    "    print(\"Divisible by 3,7\")\n",
    "else:\n",
    "    print(\"Not divisible\")"
   ]
  },
  {
   "cell_type": "code",
   "execution_count": null,
   "id": "00cc7b40-49e9-4729-9e01-fa5e55330083",
   "metadata": {},
   "outputs": [],
   "source": []
  },
  {
   "cell_type": "code",
   "execution_count": 111,
   "id": "b098cfae-b546-44f6-b0e5-67ffaf4ef36f",
   "metadata": {},
   "outputs": [
    {
     "name": "stdin",
     "output_type": "stream",
     "text": [
      "Enter first number 67\n",
      "Enter 2nd number 40\n"
     ]
    },
    {
     "name": "stdout",
     "output_type": "stream",
     "text": [
      "greater than 100 of sum 2 digit\n"
     ]
    }
   ],
   "source": [
    "#check sum of two number greater than 100\n",
    "j=int(input('Enter first number'))\n",
    "k= int(input('Enter 2nd number'))\n",
    "if (j+k)>100:\n",
    "    print('greater than 100 of sum 2 digit')\n",
    "else:\n",
    "    print('not greater')\n"
   ]
  },
  {
   "cell_type": "code",
   "execution_count": 117,
   "id": "0d3904e0-eb07-4113-b126-ef1c5f31229c",
   "metadata": {},
   "outputs": [
    {
     "name": "stdin",
     "output_type": "stream",
     "text": [
      "Enter a number 45\n",
      "Enter number 89\n"
     ]
    },
    {
     "name": "stdout",
     "output_type": "stream",
     "text": [
      "This is minimum 45\n"
     ]
    }
   ],
   "source": [
    "#Write a program to find the minimum of two numbers\n",
    "a = int(input(\"Enter a number\"))\n",
    "b = int(input(\"Enter number\"))\n",
    "if a<b:\n",
    "    print('This is minimum',a)\n",
    "else:\n",
    "    print('This is minimum',b)"
   ]
  },
  {
   "cell_type": "code",
   "execution_count": 127,
   "id": "e63d9f3e-e127-4592-b8cc-cef772662dcf",
   "metadata": {},
   "outputs": [
    {
     "name": "stdin",
     "output_type": "stream",
     "text": [
      "Enter a number 14\n"
     ]
    },
    {
     "name": "stdout",
     "output_type": "stream",
     "text": [
      "is divisible by 2\n"
     ]
    }
   ],
   "source": [
    "#if a number is divisible by 2 but not by 3\n",
    "r = int(input(\"Enter a number\"))\n",
    "if r%2==0 and r%3!=0:\n",
    "    print(\"is divisible by 2\")\n",
    "else:\n",
    "    print(\"not by \")"
   ]
  },
  {
   "cell_type": "code",
   "execution_count": 131,
   "id": "1f5ed77f-bed3-4c7c-8acf-3e0c673412a3",
   "metadata": {},
   "outputs": [
    {
     "name": "stdin",
     "output_type": "stream",
     "text": [
      "Enter a string p\n"
     ]
    },
    {
     "name": "stdout",
     "output_type": "stream",
     "text": [
      "This is lowecase\n"
     ]
    }
   ],
   "source": [
    "#a given alphabet is uppercase or lowercase\n",
    "x = input(\"Enter a string\")\n",
    "if x.isupper():\n",
    "    print(\"This is a uppercase\")\n",
    "else:\n",
    "    print(\"This is lowecase\")"
   ]
  },
  {
   "cell_type": "code",
   "execution_count": 3,
   "id": "bbcb266e-4449-4e31-a753-746caa031966",
   "metadata": {},
   "outputs": [
    {
     "name": "stdin",
     "output_type": "stream",
     "text": [
      "Enter side of a triangle 4\n",
      "Enter 2nd side of a triangle 5\n",
      "Enter 3rd side of a triangle 8\n"
     ]
    },
    {
     "name": "stdout",
     "output_type": "stream",
     "text": [
      "It is a triangle\n"
     ]
    }
   ],
   "source": [
    "#Check if a triangle is valid given three side lengths \n",
    "a = int(input(\"Enter side of a triangle\"))\n",
    "b = int(input(\"Enter 2nd side of a triangle\"))\n",
    "c = int(input(\"Enter 3rd side of a triangle\"))\n",
    "if a+b>c and b+c>a and a+c>b:\n",
    "    print(\"It is a triangle\")\n",
    "else:\n",
    "    print(\"Not a triangle\")\n",
    "    "
   ]
  },
  {
   "cell_type": "code",
   "execution_count": 5,
   "id": "f71b5de0-e36d-43d2-a112-7063d89bc8a8",
   "metadata": {},
   "outputs": [
    {
     "name": "stdin",
     "output_type": "stream",
     "text": [
      "Enter first num 56\n",
      "Enter 2nd num 78\n",
      "Enter 3rd num 3\n"
     ]
    },
    {
     "name": "stdout",
     "output_type": "stream",
     "text": [
      "This is greater 78\n"
     ]
    }
   ],
   "source": [
    "# largest number of three number\n",
    "x = int(input(\"Enter first num\"))\n",
    "y = int(input(\"Enter 2nd num\"))\n",
    "z = int(input(\"Enter 3rd num\"))\n",
    "if x>y and x>z:\n",
    "    print('this is greater',x)\n",
    "elif y>x and y>z:\n",
    "    print('This is greater',y)\n",
    "else:\n",
    "    print('greater',z)"
   ]
  },
  {
   "cell_type": "code",
   "execution_count": 21,
   "id": "a9e2acd6-7a52-4862-84dc-d352fa469238",
   "metadata": {},
   "outputs": [
    {
     "name": "stdin",
     "output_type": "stream",
     "text": [
      "Enter a number:  11\n"
     ]
    },
    {
     "name": "stdout",
     "output_type": "stream",
     "text": [
      "Prime number\n"
     ]
    }
   ],
   "source": [
    "p = int(input(\"Enter a number: \"))   \n",
    "if  p > 1:   \n",
    "    for i in range(2, int(num**0.5) + 1):   \n",
    "        if p % i == 0:   \n",
    "            print(\"Not a prime number\")   \n",
    "            break   \n",
    "    else:   \n",
    "        print(\"Prime number\")   \n",
    "else:   \n",
    "    print(\"Not a prime number\")"
   ]
  },
  {
   "cell_type": "code",
   "execution_count": 29,
   "id": "482c152e-799e-4dd1-970c-e181a04f0504",
   "metadata": {},
   "outputs": [
    {
     "name": "stdin",
     "output_type": "stream",
     "text": [
      "Enter your age:  19\n",
      "have you passed in test(yes/No): yes\n"
     ]
    },
    {
     "name": "stdout",
     "output_type": "stream",
     "text": [
      "Congrats your eligible for driving license\n"
     ]
    }
   ],
   "source": [
    "#if a person is eligible for a driving license\n",
    "z = int(input(\"Enter your age: \"))\n",
    "pass_test = input('have you passed in test(yes/No):').lower()\n",
    "if z>=18 and pass_test == 'yes':\n",
    "    print(\"Congrats your eligible for driving license\")\n",
    "else:\n",
    "    print(\"Sorry you are not.\")"
   ]
  },
  {
   "cell_type": "code",
   "execution_count": 41,
   "id": "0e4d4fc7-6e4e-4f9f-baa6-245b65ff2c2b",
   "metadata": {},
   "outputs": [
    {
     "name": "stdin",
     "output_type": "stream",
     "text": [
      "Enter one side of triangle 3\n",
      "Enter 2nd side of triangle 3\n",
      "Enter 3rd side of triangle 3\n"
     ]
    },
    {
     "name": "stdout",
     "output_type": "stream",
     "text": [
      "Equilateral traingle\n"
     ]
    }
   ],
   "source": [
    "#Determine if a triangle is equilateral, isosceles, or scalene \n",
    "j = int(input(\"Enter one side of triangle\"))\n",
    "k = int(input('Enter 2nd side of triangle'))\n",
    "l = int(input('Enter 3rd side of triangle'))\n",
    "if j== k ==l:\n",
    "    print(\"Equilateral traingle\")\n",
    "elif j==k or k==l or l==j:\n",
    "    print(\"Isoscale\")\n",
    "else:\n",
    "    print(\"scalane\")"
   ]
  },
  {
   "cell_type": "code",
   "execution_count": 43,
   "id": "01be053e-53b5-4af2-9e0a-7004cb34a243",
   "metadata": {},
   "outputs": [
    {
     "name": "stdin",
     "output_type": "stream",
     "text": [
      "Enter student marks 12\n"
     ]
    },
    {
     "name": "stdout",
     "output_type": "stream",
     "text": [
      "Try again failed\n"
     ]
    }
   ],
   "source": [
    "#Determine if a student passes or fails\n",
    "s = int(input(\"Enter student marks\"))\n",
    "if s>=40:\n",
    "    print(\"You are pass\")\n",
    "else:\n",
    "    print(\"Try again failed\")"
   ]
  },
  {
   "cell_type": "code",
   "execution_count": 49,
   "id": "9ea1c8cd-813d-470e-864e-e8e6c6c53915",
   "metadata": {},
   "outputs": [
    {
     "name": "stdin",
     "output_type": "stream",
     "text": [
      "Enter a number 676\n"
     ]
    },
    {
     "name": "stdout",
     "output_type": "stream",
     "text": [
      "Its palindrome\n"
     ]
    }
   ],
   "source": [
    "#Check if a number is a palindrome \n",
    "x =  (input(\"Enter a number\"))\n",
    "if x== x[::-1]:\n",
    "    print(\"Its palindrome\")\n",
    "else:\n",
    "    print(\"Its not palindrome\")"
   ]
  },
  {
   "cell_type": "code",
   "execution_count": 57,
   "id": "ce879e5f-84a7-47bf-8076-06e9cd3a05be",
   "metadata": {},
   "outputs": [
    {
     "name": "stdin",
     "output_type": "stream",
     "text": [
      "Enter your units 120\n"
     ]
    },
    {
     "name": "stdout",
     "output_type": "stream",
     "text": [
      "Your bill 700\n"
     ]
    }
   ],
   "source": [
    "#Calculate electricity bill\n",
    "c = int(input(\"Enter your units\"))\n",
    "if c<=100:\n",
    "    bill = c*5\n",
    "elif c<=300:\n",
    "    bill = (100*5)+(c-100) *10\n",
    "else:\n",
    "    bill = (100*5)+ (200*10)+(c*300)*15\n",
    "print(\"Your bill\",bill)"
   ]
  },
  {
   "cell_type": "code",
   "execution_count": 61,
   "id": "b0515d8d-3deb-47b9-ba40-a4b9a5b454fb",
   "metadata": {},
   "outputs": [
    {
     "name": "stdin",
     "output_type": "stream",
     "text": [
      "Enter your grade 89\n"
     ]
    },
    {
     "name": "stdout",
     "output_type": "stream",
     "text": [
      "Grade A\n"
     ]
    }
   ],
   "source": [
    "# Find the grade of a student \n",
    "c = int(input(\"Enter your grade\"))\n",
    "if c >=90:\n",
    "    print(\"Grade A+\")\n",
    "elif c>=80:\n",
    "    print(\"Grade A\")\n",
    "elif c>=70:\n",
    "    print(\"Grade B+\")\n",
    "elif c>=60:\n",
    "    print(\"grade B\")\n",
    "elif  c>=40:\n",
    "    print(\"grade C\")\n",
    "else:\n",
    "    print(\"Fail\")"
   ]
  },
  {
   "cell_type": "code",
   "execution_count": 69,
   "id": "ca6dd786-a456-45ea-9065-1d248e96bc99",
   "metadata": {},
   "outputs": [
    {
     "name": "stdin",
     "output_type": "stream",
     "text": [
      "Enter date 23\n",
      "Enter a month 2\n",
      "Enter a year 2025\n"
     ]
    },
    {
     "name": "stdout",
     "output_type": "stream",
     "text": [
      "Valid date\n"
     ]
    }
   ],
   "source": [
    "#Determine if a given date is valid\n",
    "import calendar\n",
    "d = int(input(\"Enter date\"))\n",
    "m = int(input(\"Enter a month\"))\n",
    "y = int(input(\"Enter a year\"))\n",
    "if 1<=m<=12 and 1<=d<=calendar.monthrange(y,m)[1]:\n",
    "    print(\"Valid date\")\n",
    "else:\n",
    "    print(\"Invalid date\")"
   ]
  },
  {
   "cell_type": "code",
   "execution_count": 73,
   "id": "8eead093-101d-45f1-82a0-6d1ad03cc816",
   "metadata": {},
   "outputs": [
    {
     "name": "stdin",
     "output_type": "stream",
     "text": [
      "enter 24-h time 14\n"
     ]
    },
    {
     "name": "stdout",
     "output_type": "stream",
     "text": [
      "Pm\n"
     ]
    }
   ],
   "source": [
    "# Check if a given time is AM or PM\n",
    "H = int(input(\"enter 24-h time\"))\n",
    "if H<12:\n",
    "    print(\"Am\")\n",
    "else:\n",
    "    print(\"Pm\")\n"
   ]
  },
  {
   "cell_type": "code",
   "execution_count": 81,
   "id": "3641ec6e-3833-44c8-b7ff-c71bd4d3404d",
   "metadata": {},
   "outputs": [
    {
     "name": "stdin",
     "output_type": "stream",
     "text": [
      "Enter a number 67\n"
     ]
    },
    {
     "name": "stdout",
     "output_type": "stream",
     "text": [
      "Not armstrong\n"
     ]
    }
   ],
   "source": [
    "#Check if a number is an Armstrong number\n",
    "n = input(\"Enter a number\")\n",
    "power = len(n)\n",
    "if sum(int(digit)**power for digit in n) == int(n):\n",
    "    print(\"armstrong\")\n",
    "else:\n",
    "    print(\"Not armstrong\")"
   ]
  },
  {
   "cell_type": "code",
   "execution_count": 83,
   "id": "d23be424-ec90-4c9a-a99f-bdce391410bd",
   "metadata": {},
   "outputs": [
    {
     "name": "stdin",
     "output_type": "stream",
     "text": [
      "Enter one side 5\n",
      "Enter 2nd side 6\n",
      "Enter 3rd side 5\n",
      "Enter 4th side  6\n"
     ]
    },
    {
     "name": "stdout",
     "output_type": "stream",
     "text": [
      "quadrilateral\n"
     ]
    }
   ],
   "source": [
    "#Determine the type of quadrilateral\n",
    "j = int(input(\"Enter one side\"))\n",
    "k = int(input('Enter 2nd side'))\n",
    "l = int(input('Enter 3rd side'))\n",
    "m = int(input('Enter 4th side '))\n",
    "if j == k == l== m:\n",
    "    print(\"Quadrilateral\")\n",
    "elif j==l or k==m:\n",
    "    print(\"quadrilateral\")\n",
    "else:\n",
    "    print(\"Not quadri\")"
   ]
  },
  {
   "cell_type": "code",
   "execution_count": 85,
   "id": "7498049f-49b5-4d8c-9671-cf7d4586a4f4",
   "metadata": {},
   "outputs": [
    {
     "name": "stdin",
     "output_type": "stream",
     "text": [
      "Enter a number 34\n",
      "Enter a number 78\n",
      "Enter opear(+,-,*,/): *\n"
     ]
    },
    {
     "name": "stdout",
     "output_type": "stream",
     "text": [
      "ans 2652.0\n"
     ]
    }
   ],
   "source": [
    "#Implement a basic calculator \n",
    "a = float(input(\"Enter a number\"))\n",
    "b = float(input(\"Enter a number\"))\n",
    "o = input(\"Enter opear(+,-,*,/):\")\n",
    "if o=='+':\n",
    "    print(\"ans\",a+b)\n",
    "elif o=='-':\n",
    "    print(\"ans\",a-b)\n",
    "elif o=='*':\n",
    "    print(\"ans\",a*b)\n",
    "elif o=='/':\n",
    "    print(\"ans\",a/b)\n",
    "else:\n",
    "    print('Invalid')\n",
    "\n",
    "\n"
   ]
  },
  {
   "cell_type": "code",
   "execution_count": 87,
   "id": "5f9a4bc4-1991-4865-9182-cae01c764f3d",
   "metadata": {},
   "outputs": [
    {
     "name": "stdin",
     "output_type": "stream",
     "text": [
      "Enter account balance:  500000000\n",
      "Enter withdrawal amount:  30000\n"
     ]
    },
    {
     "name": "stdout",
     "output_type": "stream",
     "text": [
      "Withdrawal successful\n"
     ]
    }
   ],
   "source": [
    "#k if a bank account balance is sufficient for withdrawal\n",
    "b = float(input(\"Enter account balance: \"))   \n",
    "w = float(input(\"Enter withdrawal amount: \"))   \n",
    "if b >= w:   \n",
    "    print(\"Withdrawal successful\")   \n",
    "else:   \n",
    "    print(\"Insufficient funds\")  "
   ]
  },
  {
   "cell_type": "code",
   "execution_count": 103,
   "id": "e0f62eb1-3272-45ab-9b38-a87dd6e8928a",
   "metadata": {},
   "outputs": [
    {
     "name": "stdin",
     "output_type": "stream",
     "text": [
      "Enter temperature:  36\n",
      "Enter unit (C/F):  F\n"
     ]
    },
    {
     "name": "stdout",
     "output_type": "stream",
     "text": [
      "Celsius: 7.666666666666665\n"
     ]
    }
   ],
   "source": [
    "z = float(input(\"Enter temperature: \"))   \n",
    "u = input(\"Enter unit (C/F): \").upper()   \n",
    "if u == \"C\":   \n",
    "    print(\"Fahrenheit:\", (t * 9/5) + 32)   \n",
    "elif u == \"F\":   \n",
    "    print(\"Celsius:\", (t - 32) * 5/9)   \n",
    "else:   \n",
    "    print(\"Invalid unit\")   "
   ]
  },
  {
   "cell_type": "code",
   "execution_count": 107,
   "id": "c94fb8ec-fd19-4575-96b8-211d440c3ff4",
   "metadata": {},
   "outputs": [
    {
     "name": "stdin",
     "output_type": "stream",
     "text": [
      "Enterb a num 22\n"
     ]
    },
    {
     "name": "stdout",
     "output_type": "stream",
     "text": [
      "not in range\n"
     ]
    }
   ],
   "source": [
    "# Check if a number lies within a range (50-100)\n",
    "a = int(input(\"Enterb a num\"))\n",
    "if  a>=50 and a<=100:\n",
    "    print(\"within range\")\n",
    "else:\n",
    "    print(\"not in range\")\n",
    "    "
   ]
  },
  {
   "cell_type": "code",
   "execution_count": 111,
   "id": "f1aeacc0-71af-47e1-81fe-d7d5697b8a0a",
   "metadata": {},
   "outputs": [
    {
     "name": "stdin",
     "output_type": "stream",
     "text": [
      "enter a year 3000\n"
     ]
    },
    {
     "name": "stdout",
     "output_type": "stream",
     "text": [
      "century year\n"
     ]
    }
   ],
   "source": [
    "#Determine if a year is a century year\n",
    "y = int(input(\"enter a year\"))\n",
    "if y%100==0:\n",
    "    print(\"century year\")\n",
    "else:\n",
    "    print(\"Not century\")"
   ]
  },
  {
   "cell_type": "code",
   "execution_count": 113,
   "id": "c27964f3-618b-4a2b-9e31-14dd45628a0b",
   "metadata": {},
   "outputs": [
    {
     "name": "stdin",
     "output_type": "stream",
     "text": [
      "Enter a number:  32\n"
     ]
    },
    {
     "name": "stdout",
     "output_type": "stream",
     "text": [
      "Power of 2\n"
     ]
    }
   ],
   "source": [
    "#Check if a number is a power of 2 \n",
    "n = int(input(\"Enter a number: \"))   \n",
    "if n > 0 and (n & (n - 1)) == 0:   \n",
    "    print(\"Power of 2\")   \n",
    "else:   \n",
    "    print(\"Not a Power of 2\")"
   ]
  },
  {
   "cell_type": "code",
   "execution_count": 115,
   "id": "7d21df5a-5c43-4da5-9abc-771fce7950fd",
   "metadata": {},
   "outputs": [
    {
     "name": "stdin",
     "output_type": "stream",
     "text": [
      "Enter month (1-12):  1\n",
      "Enter year:  2005\n"
     ]
    },
    {
     "name": "stdout",
     "output_type": "stream",
     "text": [
      "Days: 31\n"
     ]
    }
   ],
   "source": [
    "# Determine how many days a month has \n",
    "m = int(input(\"Enter month (1-12): \"))   \n",
    "y = int(input(\"Enter year: \"))   \n",
    "d = [31, 28 + (1 if (y % 4 == 0 and y % 100 != 0) or (y % 400 == 0) else 0), 31, \n",
    "30, 31, 30, 31, 31, 30, 31, 30, 31]   \n",
    "print(\"Days:\", d[m - 1])  "
   ]
  },
  {
   "cell_type": "code",
   "execution_count": 127,
   "id": "0b5a2d51-ecf3-4b37-9e67-8e7f0ee3b85f",
   "metadata": {},
   "outputs": [
    {
     "name": "stdin",
     "output_type": "stream",
     "text": [
      "Enter password:  yuufgfg7\n"
     ]
    },
    {
     "name": "stdout",
     "output_type": "stream",
     "text": [
      "Valid Password\n"
     ]
    }
   ],
   "source": [
    "import re   \n",
    "password = input(\"Enter password: \")   \n",
    "if len(password) >= 8 and re.search(r\"[A-Za-z]\", password) and re.search(r\"\\d\", password):   \n",
    "    print(\"Valid Password\")   \n",
    "else:   \n",
    "    print(\"Invalid Password\")  "
   ]
  },
  {
   "cell_type": "code",
   "execution_count": null,
   "id": "df8dd83e-7bb3-4405-bff7-3461e70728ec",
   "metadata": {},
   "outputs": [],
   "source": []
  }
 ],
 "metadata": {
  "kernelspec": {
   "display_name": "Python 3 (ipykernel)",
   "language": "python",
   "name": "python3"
  },
  "language_info": {
   "codemirror_mode": {
    "name": "ipython",
    "version": 3
   },
   "file_extension": ".py",
   "mimetype": "text/x-python",
   "name": "python",
   "nbconvert_exporter": "python",
   "pygments_lexer": "ipython3",
   "version": "3.12.4"
  }
 },
 "nbformat": 4,
 "nbformat_minor": 5
}
